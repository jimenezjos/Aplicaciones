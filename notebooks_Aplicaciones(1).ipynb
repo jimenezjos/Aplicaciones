{
  "metadata": {
    "kernelspec": {
      "name": "python",
      "display_name": "Python (Pyodide)",
      "language": "python"
    },
    "language_info": {
      "codemirror_mode": {
        "name": "python",
        "version": 3
      },
      "file_extension": ".py",
      "mimetype": "text/x-python",
      "name": "python",
      "nbconvert_exporter": "python",
      "pygments_lexer": "ipython3",
      "version": "3.8"
    }
  },
  "nbformat_minor": 5,
  "nbformat": 4,
  "cells": [
    {
      "cell_type": "markdown",
      "source": "EJERCICIO 1",
      "metadata": {},
      "id": "86c3e3c6-6489-40b7-a1ce-028a156d7e42"
    },
    {
      "cell_type": "markdown",
      "source": "$\\frac{dx}{dt}=k(x-a)$",
      "metadata": {},
      "id": "3e11cb0d-7eb7-4749-8059-c98c658fe91f"
    },
    {
      "cell_type": "markdown",
      "source": "$\\int$$\\frac{dx}{x-a}=\\int$$kdt$\n",
      "metadata": {},
      "id": "055e5015-6769-4788-a329-7a970ca19978"
    },
    {
      "cell_type": "markdown",
      "source": "$\\ln(x-a)=kt+C$",
      "metadata": {},
      "id": "2c619c4d-4fef-4e05-9234-20ac0931626c"
    },
    {
      "cell_type": "markdown",
      "source": "$e^{\\ln(x-a)}=e^{kt+C}$",
      "metadata": {},
      "id": "1ec39273-a1d5-4e29-a41b-d03f5a21c0a1"
    },
    {
      "cell_type": "markdown",
      "source": "$x-a={e^{kt}}C$",
      "metadata": {},
      "id": "d123ad88-55e6-4002-a12c-89282eec55f2"
    },
    {
      "cell_type": "markdown",
      "source": "$a=21,x(0)=31$",
      "metadata": {},
      "id": "183ac1a3-88a8-4c79-938b-3e9708071628"
    },
    {
      "cell_type": "markdown",
      "source": "$31=21+C{e^{k(0)}}$",
      "metadata": {},
      "id": "a18cc2cc-aea9-47d1-8782-ad2f2500b55c"
    },
    {
      "cell_type": "markdown",
      "source": "$c=10$",
      "metadata": {},
      "id": "effe0d9b-998e-43e9-93cc-948fae048714"
    },
    {
      "cell_type": "markdown",
      "source": "$a=21,x(1)=29$",
      "metadata": {},
      "id": "a61df751-bf03-49d5-b822-212737e112e8"
    },
    {
      "cell_type": "markdown",
      "source": "$29=21+10{e^{k(1)}}$",
      "metadata": {},
      "id": "4bb95494-a2db-4336-a623-bdf0052dc105"
    },
    {
      "cell_type": "markdown",
      "source": "$8=10{e^{k}}$",
      "metadata": {},
      "id": "3d5655ce-244f-4e12-adb2-578b99056c23"
    },
    {
      "cell_type": "markdown",
      "source": "$\\ln(\\frac{8}{10})=k$",
      "metadata": {},
      "id": "edd36d9b-af68-4be4-82af-d4a47cb11868"
    },
    {
      "cell_type": "markdown",
      "source": "$k=-.22314$",
      "metadata": {},
      "id": "5da322c3-06a0-48d7-beda-577ac7ec7a68"
    },
    {
      "cell_type": "markdown",
      "source": "$a=21,x(t)=37$",
      "metadata": {},
      "id": "17b13d9b-f2da-49cb-b38e-347a9fc9b4fa"
    },
    {
      "cell_type": "markdown",
      "source": "$\\frac{\\ln(\\frac{16}{10})}{-.22314}=t$",
      "metadata": {},
      "id": "d72426c0-f5f3-4028-a368-f2bb388d1417"
    },
    {
      "cell_type": "markdown",
      "source": "$t=-2.106331$",
      "metadata": {},
      "id": "ffa20249-dd84-4bfe-ad08-2f9a6a154e1f"
    },
    {
      "cell_type": "markdown",
      "source": "Como no hay tiempo negativo entonces seria ${2.16331}$ antes del arresto que es t=0, seria el momento del disparo",
      "metadata": {},
      "id": "2cc4c5e8-1632-47e3-ba94-682e92953312"
    },
    {
      "cell_type": "code",
      "source": "",
      "metadata": {},
      "execution_count": null,
      "outputs": [],
      "id": "a6bacf90-da0a-496d-81b1-cf9a3d6e40d2"
    }
  ]
}